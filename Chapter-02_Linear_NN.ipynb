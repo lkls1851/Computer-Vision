{
 "cells": [
  {
   "cell_type": "code",
   "execution_count": 1,
   "id": "09a6e451-9ad1-4a2f-8e3d-f410d4441315",
   "metadata": {},
   "outputs": [],
   "source": [
    "import math\n",
    "import time\n",
    "import numpy as np\n",
    "import torch\n",
    "from d2l import torch as d2l"
   ]
  },
  {
   "cell_type": "markdown",
   "id": "bce8bfd6-a0d5-4374-90fd-d1f00648b77b",
   "metadata": {},
   "source": [
    "### Decorators"
   ]
  },
  {
   "cell_type": "markdown",
   "id": "a49095ca-23d0-4038-be09-c6ceb13b2741",
   "metadata": {},
   "source": [
    "##### Example 1"
   ]
  },
  {
   "cell_type": "code",
   "execution_count": 29,
   "id": "97d8ea01-56b4-4e50-8cba-b773fcbea6dc",
   "metadata": {},
   "outputs": [],
   "source": [
    "class details:\n",
    "    name='Hari'\n",
    "    age=18\n",
    "        "
   ]
  },
  {
   "cell_type": "code",
   "execution_count": 30,
   "id": "c1dc0c39-810a-4b7a-b031-ac90ed1bbc9c",
   "metadata": {},
   "outputs": [],
   "source": [
    "setattr(details, 'age', 19)"
   ]
  },
  {
   "cell_type": "code",
   "execution_count": 31,
   "id": "a9ebe7f5-63f2-4518-b454-5b25d4ac03fa",
   "metadata": {},
   "outputs": [
    {
     "data": {
      "text/plain": [
       "19"
      ]
     },
     "execution_count": 31,
     "metadata": {},
     "output_type": "execute_result"
    }
   ],
   "source": [
    "std1=details()\n",
    "std1.age"
   ]
  },
  {
   "cell_type": "code",
   "execution_count": 14,
   "id": "fd269222-65cb-4f05-96a9-48ca926c12c5",
   "metadata": {},
   "outputs": [],
   "source": [
    "def add_to_class(Class): #@save\n",
    "    def wrapper(obj):\n",
    "        setattr(Class, obj.__name__, obj)\n",
    "    return wrapper"
   ]
  },
  {
   "cell_type": "code",
   "execution_count": 15,
   "id": "68015245-9617-467a-98e7-dad7dd05ad7f",
   "metadata": {},
   "outputs": [],
   "source": [
    "class A:\n",
    "    def __init__(self):\n",
    "        self.b=1"
   ]
  },
  {
   "cell_type": "code",
   "execution_count": 16,
   "id": "23fa5c4a-1296-405e-a0b8-8403e377ac50",
   "metadata": {},
   "outputs": [],
   "source": [
    "a=A()"
   ]
  },
  {
   "cell_type": "code",
   "execution_count": 17,
   "id": "ddc4cbff-81a4-4b51-be76-747f5c60b346",
   "metadata": {},
   "outputs": [],
   "source": [
    "@add_to_class(A)\n",
    "def do(self):\n",
    "    print('class attr b is: ', self.b)"
   ]
  },
  {
   "cell_type": "code",
   "execution_count": 18,
   "id": "74fdc213-6c01-4cbf-8332-29c7c1067f50",
   "metadata": {},
   "outputs": [
    {
     "name": "stdout",
     "output_type": "stream",
     "text": [
      "class attr b is:  1\n"
     ]
    }
   ],
   "source": [
    "a.do()"
   ]
  },
  {
   "cell_type": "markdown",
   "id": "9bb23da4-82de-4b5b-a723-59530638b7ec",
   "metadata": {},
   "source": [
    "##### Example 2"
   ]
  },
  {
   "cell_type": "code",
   "execution_count": 32,
   "id": "b8862b2e-6895-40c5-9c73-6c4e5cbe1c2b",
   "metadata": {},
   "outputs": [],
   "source": [
    "class B:\n",
    "    def __init__(self,m,p):\n",
    "        self.maths=m\n",
    "        self.phy=p"
   ]
  },
  {
   "cell_type": "code",
   "execution_count": 33,
   "id": "00bf943f-6253-4e27-81d9-f29c717593cb",
   "metadata": {},
   "outputs": [],
   "source": [
    "def add_to_class(Class):\n",
    "    def wrapper(obj):\n",
    "        setattr(Class, obj.__name__, obj)\n",
    "    return wrapper"
   ]
  },
  {
   "cell_type": "code",
   "execution_count": 43,
   "id": "0179e417-193e-4114-8e31-085201e1e79c",
   "metadata": {},
   "outputs": [],
   "source": [
    "@add_to_class(B)\n",
    "def percentage(self):\n",
    "    return (self.maths+self.phy)/2"
   ]
  },
  {
   "cell_type": "code",
   "execution_count": 44,
   "id": "6e5d58b1-7255-42e1-8e16-7eb51d5b9b4e",
   "metadata": {},
   "outputs": [],
   "source": [
    "std2=B(98,100)"
   ]
  },
  {
   "cell_type": "code",
   "execution_count": 45,
   "id": "6e7dc4ca-6b60-46eb-8d4b-2543e02c04cc",
   "metadata": {},
   "outputs": [
    {
     "data": {
      "text/plain": [
       "99.0"
      ]
     },
     "execution_count": 45,
     "metadata": {},
     "output_type": "execute_result"
    }
   ],
   "source": [
    "std2.percentage()"
   ]
  },
  {
   "cell_type": "markdown",
   "id": "11bde80e-05d8-41bd-b480-682746d28bc2",
   "metadata": {},
   "source": [
    "### Linear Regression"
   ]
  },
  {
   "cell_type": "code",
   "execution_count": 58,
   "id": "45c80024-faff-45f7-a117-711821e792ab",
   "metadata": {},
   "outputs": [],
   "source": [
    "class SyntheticData(d2l.DataModule):\n",
    "    def __init__(self, w, b, noise=0.01, num_train=1000, num_val=500, batch=32):\n",
    "        super().__init__()\n",
    "        self.save_hyperparameters()\n",
    "        n=num_train+num_val\n",
    "        noise=torch.randn(n,1)*noise\n",
    "        self.X=torch.randn(n,len(w))\n",
    "        self.y=torch.matmul(self.X, w.reshape(-1,1))+noise"
   ]
  },
  {
   "cell_type": "code",
   "execution_count": 59,
   "id": "cdedb093-5ca3-4170-a6b8-605603810df8",
   "metadata": {},
   "outputs": [],
   "source": [
    "w=torch.tensor([1,2,3], dtype=torch.float32)\n",
    "b=torch.tensor(4, dtype=torch.float32)\n",
    "data=SyntheticData(w,b)"
   ]
  },
  {
   "cell_type": "code",
   "execution_count": 60,
   "id": "2c65dff0-9704-4bc9-91df-9ee7a143a97c",
   "metadata": {},
   "outputs": [],
   "source": [
    "X=data.X\n",
    "y=data.y"
   ]
  },
  {
   "cell_type": "code",
   "execution_count": 62,
   "id": "0b081fcd-df4c-406a-920c-e8460aae6883",
   "metadata": {},
   "outputs": [
    {
     "ename": "SyntaxError",
     "evalue": "incomplete input (3233958342.py, line 1)",
     "output_type": "error",
     "traceback": [
      "\u001b[0;36m  Cell \u001b[0;32mIn[62], line 1\u001b[0;36m\u001b[0m\n\u001b[0;31m    @add_to_class(SyntheticData)\u001b[0m\n\u001b[0m                                ^\u001b[0m\n\u001b[0;31mSyntaxError\u001b[0m\u001b[0;31m:\u001b[0m incomplete input\n"
     ]
    }
   ],
   "source": [
    "@add_to_class(SyntheticData)\n"
   ]
  },
  {
   "cell_type": "code",
   "execution_count": null,
   "id": "2be509b7-7de4-4880-ad30-133856828e7d",
   "metadata": {},
   "outputs": [],
   "source": []
  }
 ],
 "metadata": {
  "kernelspec": {
   "display_name": "Python 3 (ipykernel)",
   "language": "python",
   "name": "python3"
  },
  "language_info": {
   "codemirror_mode": {
    "name": "ipython",
    "version": 3
   },
   "file_extension": ".py",
   "mimetype": "text/x-python",
   "name": "python",
   "nbconvert_exporter": "python",
   "pygments_lexer": "ipython3",
   "version": "3.10.12"
  }
 },
 "nbformat": 4,
 "nbformat_minor": 5
}
