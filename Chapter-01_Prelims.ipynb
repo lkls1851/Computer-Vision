{
 "cells": [
  {
   "cell_type": "code",
   "execution_count": 2,
   "id": "afdd8055-3466-4108-b43a-e2c15729eabb",
   "metadata": {},
   "outputs": [],
   "source": [
    "import torch\n",
    "import d2l"
   ]
  },
  {
   "cell_type": "code",
   "execution_count": 7,
   "id": "54e4d2c0-111c-4f8b-9237-a4f5b41c34b5",
   "metadata": {},
   "outputs": [],
   "source": [
    "## total no of elements in a tensor using numel"
   ]
  },
  {
   "cell_type": "code",
   "execution_count": 4,
   "id": "2beacd14-fe3c-485e-982b-9311930ff632",
   "metadata": {},
   "outputs": [],
   "source": [
    "t=torch.arange(10)"
   ]
  },
  {
   "cell_type": "code",
   "execution_count": 5,
   "id": "822f4729-89d6-4458-8d21-e1c3650d3fae",
   "metadata": {},
   "outputs": [
    {
     "data": {
      "text/plain": [
       "tensor([0, 1, 2, 3, 4, 5, 6, 7, 8, 9])"
      ]
     },
     "execution_count": 5,
     "metadata": {},
     "output_type": "execute_result"
    }
   ],
   "source": [
    "t"
   ]
  },
  {
   "cell_type": "code",
   "execution_count": 6,
   "id": "6871d51e-9f4d-4c4d-8b61-cc60d861d381",
   "metadata": {},
   "outputs": [
    {
     "data": {
      "text/plain": [
       "10"
      ]
     },
     "execution_count": 6,
     "metadata": {},
     "output_type": "execute_result"
    }
   ],
   "source": [
    "t.numel()"
   ]
  },
  {
   "cell_type": "code",
   "execution_count": 9,
   "id": "1ad0b873-1648-47ce-a605-dc673b953a46",
   "metadata": {},
   "outputs": [
    {
     "data": {
      "text/plain": [
       "torch.Size([10])"
      ]
     },
     "execution_count": 9,
     "metadata": {},
     "output_type": "execute_result"
    }
   ],
   "source": [
    "t.shape"
   ]
  },
  {
   "cell_type": "code",
   "execution_count": 11,
   "id": "7b86221e-56f4-4018-972b-08e75b3fb7c5",
   "metadata": {},
   "outputs": [
    {
     "data": {
      "text/plain": [
       "torch.Size([10])"
      ]
     },
     "execution_count": 11,
     "metadata": {},
     "output_type": "execute_result"
    }
   ],
   "source": [
    "t.size()"
   ]
  },
  {
   "cell_type": "code",
   "execution_count": 12,
   "id": "e193163b-7c7a-421c-a60c-789642c56200",
   "metadata": {},
   "outputs": [],
   "source": [
    "a=torch.tensor([1,2,3,4])\n",
    "b=torch.tensor([2,1,2,1])"
   ]
  },
  {
   "cell_type": "code",
   "execution_count": 13,
   "id": "db8a8ec5-1c10-4c29-993b-cd34df77a8fe",
   "metadata": {},
   "outputs": [
    {
     "data": {
      "text/plain": [
       "tensor([3, 3, 5, 5])"
      ]
     },
     "execution_count": 13,
     "metadata": {},
     "output_type": "execute_result"
    }
   ],
   "source": [
    "a+b"
   ]
  },
  {
   "cell_type": "code",
   "execution_count": 14,
   "id": "8ef050d7-cb3f-4989-999c-1fb7bdd576ae",
   "metadata": {},
   "outputs": [
    {
     "data": {
      "text/plain": [
       "tensor([-1,  1,  1,  3])"
      ]
     },
     "execution_count": 14,
     "metadata": {},
     "output_type": "execute_result"
    }
   ],
   "source": [
    "a-b"
   ]
  },
  {
   "cell_type": "code",
   "execution_count": 15,
   "id": "306854bf-8900-40b0-8980-e8a95ada2bbd",
   "metadata": {},
   "outputs": [
    {
     "data": {
      "text/plain": [
       "tensor([2, 2, 6, 4])"
      ]
     },
     "execution_count": 15,
     "metadata": {},
     "output_type": "execute_result"
    }
   ],
   "source": [
    "a*b"
   ]
  },
  {
   "cell_type": "code",
   "execution_count": 16,
   "id": "c502ec6f-04e7-49a3-b7e3-ecb7747751a2",
   "metadata": {},
   "outputs": [
    {
     "data": {
      "text/plain": [
       "tensor([0.5000, 2.0000, 1.5000, 4.0000])"
      ]
     },
     "execution_count": 16,
     "metadata": {},
     "output_type": "execute_result"
    }
   ],
   "source": [
    "a/b"
   ]
  },
  {
   "cell_type": "code",
   "execution_count": 17,
   "id": "1f58d94d-54c6-43bf-968c-188d0816a8a4",
   "metadata": {},
   "outputs": [
    {
     "data": {
      "text/plain": [
       "tensor([1, 2, 9, 4])"
      ]
     },
     "execution_count": 17,
     "metadata": {},
     "output_type": "execute_result"
    }
   ],
   "source": [
    "a**b"
   ]
  },
  {
   "cell_type": "code",
   "execution_count": 18,
   "id": "8f57a13b-09f7-4029-832b-80a3db94f47d",
   "metadata": {},
   "outputs": [],
   "source": [
    "b[2]=0"
   ]
  },
  {
   "cell_type": "code",
   "execution_count": 19,
   "id": "bbd4f980-0a31-418a-818f-180d43f7e8fa",
   "metadata": {},
   "outputs": [
    {
     "data": {
      "text/plain": [
       "tensor([0.5000, 2.0000,    inf, 4.0000])"
      ]
     },
     "execution_count": 19,
     "metadata": {},
     "output_type": "execute_result"
    }
   ],
   "source": [
    "a/b"
   ]
  },
  {
   "cell_type": "code",
   "execution_count": 20,
   "id": "da6b4112-5745-4692-86ea-0d45901995b1",
   "metadata": {},
   "outputs": [],
   "source": [
    "## concatenate multiple tensors"
   ]
  },
  {
   "cell_type": "code",
   "execution_count": 22,
   "id": "56b38510-0de3-4858-a4a9-24bc5efffdb3",
   "metadata": {},
   "outputs": [
    {
     "data": {
      "text/plain": [
       "tensor([1, 2, 3, 4, 2, 1, 0, 1])"
      ]
     },
     "execution_count": 22,
     "metadata": {},
     "output_type": "execute_result"
    }
   ],
   "source": [
    "torch.cat((a,b), axis=0)"
   ]
  },
  {
   "cell_type": "code",
   "execution_count": 26,
   "id": "94f0ccdb-b391-4d5c-b2cd-1afda38472b8",
   "metadata": {},
   "outputs": [],
   "source": [
    "x=(a==b)"
   ]
  },
  {
   "cell_type": "code",
   "execution_count": 27,
   "id": "c58c6030-2d5b-4fa8-abb6-55f4c6651446",
   "metadata": {},
   "outputs": [
    {
     "data": {
      "text/plain": [
       "tensor([False, False, False, False])"
      ]
     },
     "execution_count": 27,
     "metadata": {},
     "output_type": "execute_result"
    }
   ],
   "source": [
    "x"
   ]
  },
  {
   "cell_type": "code",
   "execution_count": 34,
   "id": "3fef745d-4271-4376-ace4-3eb5931488ab",
   "metadata": {},
   "outputs": [],
   "source": [
    "a=torch.arange(2).reshape((1,2))\n",
    "b=torch.arange(3).reshape((3,1))"
   ]
  },
  {
   "cell_type": "code",
   "execution_count": 35,
   "id": "faf7328d-d9af-4bbd-a2df-d9be5b960199",
   "metadata": {},
   "outputs": [
    {
     "data": {
      "text/plain": [
       "tensor([[0, 1]])"
      ]
     },
     "execution_count": 35,
     "metadata": {},
     "output_type": "execute_result"
    }
   ],
   "source": [
    "a"
   ]
  },
  {
   "cell_type": "code",
   "execution_count": 36,
   "id": "767feb06-e3e8-4279-b270-7ecd352d6034",
   "metadata": {},
   "outputs": [
    {
     "data": {
      "text/plain": [
       "tensor([[0],\n",
       "        [1],\n",
       "        [2]])"
      ]
     },
     "execution_count": 36,
     "metadata": {},
     "output_type": "execute_result"
    }
   ],
   "source": [
    "b"
   ]
  },
  {
   "cell_type": "code",
   "execution_count": 37,
   "id": "009ffc10-30c4-4b9e-8dca-fe73861115d9",
   "metadata": {},
   "outputs": [
    {
     "data": {
      "text/plain": [
       "tensor([[0, 1],\n",
       "        [1, 2],\n",
       "        [2, 3]])"
      ]
     },
     "execution_count": 37,
     "metadata": {},
     "output_type": "execute_result"
    }
   ],
   "source": [
    "a+b"
   ]
  },
  {
   "cell_type": "code",
   "execution_count": 39,
   "id": "16296154-750d-47f4-ad87-ea32db80d582",
   "metadata": {},
   "outputs": [
    {
     "data": {
      "text/plain": [
       "124690228755600"
      ]
     },
     "execution_count": 39,
     "metadata": {},
     "output_type": "execute_result"
    }
   ],
   "source": [
    "z=torch.zeros(3)\n",
    "id(z)"
   ]
  },
  {
   "cell_type": "code",
   "execution_count": 40,
   "id": "31377a3c-363b-489e-8be4-3d71418c67fa",
   "metadata": {},
   "outputs": [],
   "source": [
    "x=torch.ones(3)\n",
    "y=2*torch.ones(3)\n",
    "z=x+y"
   ]
  },
  {
   "cell_type": "code",
   "execution_count": 41,
   "id": "3466f9cb-1d1d-4111-aacd-47f0bf454756",
   "metadata": {},
   "outputs": [
    {
     "data": {
      "text/plain": [
       "124690228753280"
      ]
     },
     "execution_count": 41,
     "metadata": {},
     "output_type": "execute_result"
    }
   ],
   "source": [
    "id(z)"
   ]
  },
  {
   "cell_type": "code",
   "execution_count": 42,
   "id": "84fb35d4-d4dc-48d5-bc8f-2a2a4e0ae84d",
   "metadata": {},
   "outputs": [],
   "source": [
    "## Thus address of z changes, hence memory wasted"
   ]
  },
  {
   "cell_type": "code",
   "execution_count": 43,
   "id": "1b7f9989-8fc4-4987-bbcd-d6adcc10e223",
   "metadata": {},
   "outputs": [
    {
     "data": {
      "text/plain": [
       "124690228807616"
      ]
     },
     "execution_count": 43,
     "metadata": {},
     "output_type": "execute_result"
    }
   ],
   "source": [
    "z=torch.zeros(3)\n",
    "id(z)"
   ]
  },
  {
   "cell_type": "code",
   "execution_count": 44,
   "id": "8b8ba12d-5d54-4c31-bb3c-f0d02805ffb0",
   "metadata": {},
   "outputs": [],
   "source": [
    "x=torch.ones(3)\n",
    "y=2*torch.ones(3)\n",
    "z[:]=x+y"
   ]
  },
  {
   "cell_type": "code",
   "execution_count": 45,
   "id": "18c79395-62a1-4234-80e3-8802a55a9984",
   "metadata": {},
   "outputs": [
    {
     "data": {
      "text/plain": [
       "124690228807616"
      ]
     },
     "execution_count": 45,
     "metadata": {},
     "output_type": "execute_result"
    }
   ],
   "source": [
    "id(z)"
   ]
  },
  {
   "cell_type": "code",
   "execution_count": 46,
   "id": "50b4adfa-6497-45d3-b8ca-ea74a9fc0ea1",
   "metadata": {},
   "outputs": [],
   "source": [
    "## address remains same when we use slicing operation"
   ]
  },
  {
   "cell_type": "code",
   "execution_count": 49,
   "id": "d362ea81-5eec-4d3d-a325-5f19b8d13bba",
   "metadata": {},
   "outputs": [
    {
     "data": {
      "text/plain": [
       "1"
      ]
     },
     "execution_count": 49,
     "metadata": {},
     "output_type": "execute_result"
    }
   ],
   "source": [
    "a=torch.tensor([1])\n",
    "a.item()"
   ]
  },
  {
   "cell_type": "code",
   "execution_count": 51,
   "id": "40a7685b-6ca5-485f-a146-ff1a2fecd058",
   "metadata": {},
   "outputs": [
    {
     "data": {
      "text/plain": [
       "tensor([[1, 2],\n",
       "        [4, 6]])"
      ]
     },
     "execution_count": 51,
     "metadata": {},
     "output_type": "execute_result"
    }
   ],
   "source": [
    "a=torch.tensor([[1,2],[3,4]])\n",
    "a.cumsum(axis=0)"
   ]
  },
  {
   "cell_type": "code",
   "execution_count": 52,
   "id": "7c5739f5-e15e-4718-9b52-f894cd8907c0",
   "metadata": {},
   "outputs": [
    {
     "data": {
      "text/plain": [
       "tensor([[1, 3],\n",
       "        [3, 7]])"
      ]
     },
     "execution_count": 52,
     "metadata": {},
     "output_type": "execute_result"
    }
   ],
   "source": [
    "a.cumsum(axis=1)"
   ]
  },
  {
   "cell_type": "code",
   "execution_count": 54,
   "id": "a88adde1-e9b2-4c5e-b2d5-8ec872d23a93",
   "metadata": {},
   "outputs": [
    {
     "data": {
      "text/plain": [
       "tensor(3)"
      ]
     },
     "execution_count": 54,
     "metadata": {},
     "output_type": "execute_result"
    }
   ],
   "source": [
    "a=torch.tensor([-1,2])\n",
    "a.abs().sum()"
   ]
  },
  {
   "cell_type": "markdown",
   "id": "b01c70ff-3a80-4b36-8261-afd4a8c06023",
   "metadata": {},
   "source": [
    "#### Autograd"
   ]
  },
  {
   "cell_type": "code",
   "execution_count": 111,
   "id": "d5d03190-1d9d-4c8c-b66d-1ad6bb57d73f",
   "metadata": {},
   "outputs": [],
   "source": [
    "x=torch.arange(4.0)"
   ]
  },
  {
   "cell_type": "code",
   "execution_count": 112,
   "id": "fb9ac2e9-486e-4827-9f5e-d3ce10b90941",
   "metadata": {},
   "outputs": [
    {
     "data": {
      "text/plain": [
       "tensor([0., 1., 2., 3.])"
      ]
     },
     "execution_count": 112,
     "metadata": {},
     "output_type": "execute_result"
    }
   ],
   "source": [
    "x"
   ]
  },
  {
   "cell_type": "code",
   "execution_count": 113,
   "id": "0050dd9c-fd2c-4b97-a705-1b8a2fa6a145",
   "metadata": {},
   "outputs": [
    {
     "data": {
      "text/plain": [
       "tensor([0., 1., 2., 3.], requires_grad=True)"
      ]
     },
     "execution_count": 113,
     "metadata": {},
     "output_type": "execute_result"
    }
   ],
   "source": [
    "x.requires_grad_(True)"
   ]
  },
  {
   "cell_type": "code",
   "execution_count": 114,
   "id": "2fc7e1ee-f2cb-40e0-a4a7-4e9b8d95820f",
   "metadata": {},
   "outputs": [],
   "source": [
    "x.grad"
   ]
  },
  {
   "cell_type": "code",
   "execution_count": 115,
   "id": "513ba48e-4e75-41f9-b25b-c28fc47d6e3e",
   "metadata": {},
   "outputs": [],
   "source": [
    "y=2*torch.dot(x,x)"
   ]
  },
  {
   "cell_type": "code",
   "execution_count": 116,
   "id": "0de3a952-da85-4f12-a67f-93768d2bf547",
   "metadata": {},
   "outputs": [],
   "source": [
    "y.backward(retain_graph=True)"
   ]
  },
  {
   "cell_type": "code",
   "execution_count": 117,
   "id": "d7ff2112-8d2c-4db5-90ac-ca4b7ed451a4",
   "metadata": {},
   "outputs": [
    {
     "data": {
      "text/plain": [
       "tensor([ 0.,  4.,  8., 12.])"
      ]
     },
     "execution_count": 117,
     "metadata": {},
     "output_type": "execute_result"
    }
   ],
   "source": [
    "x.grad"
   ]
  },
  {
   "cell_type": "code",
   "execution_count": 118,
   "id": "815c97b3-341e-4988-ad91-b459d9955717",
   "metadata": {},
   "outputs": [],
   "source": [
    "y.backward(retain_graph=True)"
   ]
  },
  {
   "cell_type": "code",
   "execution_count": 119,
   "id": "16f0c9ce-1930-4019-8898-15fd4a11694a",
   "metadata": {},
   "outputs": [
    {
     "data": {
      "text/plain": [
       "tensor([ 0.,  8., 16., 24.])"
      ]
     },
     "execution_count": 119,
     "metadata": {},
     "output_type": "execute_result"
    }
   ],
   "source": [
    "x.grad"
   ]
  },
  {
   "cell_type": "code",
   "execution_count": 120,
   "id": "35147650-bc20-4304-9819-f9a711f5f246",
   "metadata": {},
   "outputs": [],
   "source": [
    "y.backward(retain_graph=True)"
   ]
  },
  {
   "cell_type": "code",
   "execution_count": 121,
   "id": "64f88b4f-d194-49cf-87a4-165249469dd4",
   "metadata": {},
   "outputs": [
    {
     "data": {
      "text/plain": [
       "tensor([ 0., 12., 24., 36.])"
      ]
     },
     "execution_count": 121,
     "metadata": {},
     "output_type": "execute_result"
    }
   ],
   "source": [
    "x.grad"
   ]
  },
  {
   "cell_type": "code",
   "execution_count": 122,
   "id": "66bfe56a-d27d-4bfc-a2f6-9e41aa01709f",
   "metadata": {},
   "outputs": [],
   "source": [
    "z=3*torch.dot(x,x)"
   ]
  },
  {
   "cell_type": "code",
   "execution_count": 123,
   "id": "250403e7-8e57-4e84-b013-d5dd4645fdf9",
   "metadata": {},
   "outputs": [],
   "source": [
    "z.backward(retain_graph=True)"
   ]
  },
  {
   "cell_type": "code",
   "execution_count": 124,
   "id": "ba913af8-018a-4739-9c62-c0cd6ff45a1f",
   "metadata": {},
   "outputs": [
    {
     "data": {
      "text/plain": [
       "tensor([ 0., 18., 36., 54.])"
      ]
     },
     "execution_count": 124,
     "metadata": {},
     "output_type": "execute_result"
    }
   ],
   "source": [
    "x.grad"
   ]
  },
  {
   "cell_type": "code",
   "execution_count": 125,
   "id": "0a18b2ef-e6dc-4472-b077-3165194ed69e",
   "metadata": {},
   "outputs": [
    {
     "name": "stdout",
     "output_type": "stream",
     "text": [
      "tensor([2.])\n",
      "tensor([1.])\n",
      "tensor([1.])\n",
      "tensor([6.])\n",
      "tensor([3.])\n",
      "tensor([2.])\n"
     ]
    }
   ],
   "source": [
    "import torch\n",
    "\n",
    "# Create tensors\n",
    "x = torch.tensor([1.0], requires_grad=True)\n",
    "w = torch.tensor([2.0], requires_grad=True)\n",
    "b = torch.tensor([3.0], requires_grad=True)\n",
    "\n",
    "# Perform a computation\n",
    "y = w * x + b\n",
    "\n",
    "# Perform backpropagation\n",
    "y.backward()\n",
    "\n",
    "# Check gradients\n",
    "print(x.grad)  # Output: tensor([2.])\n",
    "print(w.grad)  # Output: tensor([1.])\n",
    "print(b.grad)  # Output: tensor([1.])\n",
    "\n",
    "# Perform another computation\n",
    "y2 = 2 * w * x + b\n",
    "\n",
    "# Perform backpropagation again\n",
    "y2.backward()\n",
    "\n",
    "# Check gradients again (gradients accumulate)\n",
    "print(x.grad)  # Output: tensor([4.])\n",
    "print(w.grad)  # Output: tensor([2.])\n",
    "print(b.grad)  # Output: tensor([2.])\n"
   ]
  },
  {
   "cell_type": "code",
   "execution_count": 126,
   "id": "94f51a0a-0e3e-4447-8552-a9bcc5e00122",
   "metadata": {},
   "outputs": [
    {
     "name": "stdout",
     "output_type": "stream",
     "text": [
      "tensor([2.])\n",
      "tensor([1.])\n",
      "tensor([1.])\n",
      "tensor([4.])\n",
      "tensor([2.])\n",
      "tensor([1.])\n"
     ]
    }
   ],
   "source": [
    "import torch\n",
    "\n",
    "# Create tensors\n",
    "x = torch.tensor([1.0], requires_grad=True)\n",
    "w = torch.tensor([2.0], requires_grad=True)\n",
    "b = torch.tensor([3.0], requires_grad=True)\n",
    "\n",
    "# Perform a computation\n",
    "y = w * x + b\n",
    "\n",
    "# Perform backpropagation\n",
    "y.backward()\n",
    "\n",
    "# Check gradients\n",
    "print(x.grad)  # Output: tensor([2.])\n",
    "print(w.grad)  # Output: tensor([1.])\n",
    "print(b.grad)  # Output: tensor([1.])\n",
    "\n",
    "x.grad.zero_()\n",
    "w.grad.zero_()\n",
    "b.grad.zero_()\n",
    "# Perform another computation\n",
    "y2 = 2 * w * x + b\n",
    "\n",
    "# Perform backpropagation again\n",
    "y2.backward()\n",
    "\n",
    "# Check gradients again (gradients accumulate)\n",
    "print(x.grad)  # Output: tensor([4.])\n",
    "print(w.grad)  # Output: tensor([2.])\n",
    "print(b.grad)  # Output: tensor([2.])\n"
   ]
  },
  {
   "cell_type": "code",
   "execution_count": 127,
   "id": "821099b7-cfad-47fc-8997-bf293edb5264",
   "metadata": {},
   "outputs": [
    {
     "data": {
      "text/plain": [
       "tensor([1.], requires_grad=True)"
      ]
     },
     "execution_count": 127,
     "metadata": {},
     "output_type": "execute_result"
    }
   ],
   "source": [
    "x"
   ]
  },
  {
   "cell_type": "code",
   "execution_count": 131,
   "id": "2aa55200-819f-4a8c-a778-183b5eb14f5a",
   "metadata": {},
   "outputs": [
    {
     "data": {
      "text/plain": [
       "tensor([2.])"
      ]
     },
     "execution_count": 131,
     "metadata": {},
     "output_type": "execute_result"
    }
   ],
   "source": [
    "x.grad.zero_()\n",
    "y=x*x\n",
    "y.backward()\n",
    "x.grad"
   ]
  },
  {
   "cell_type": "code",
   "execution_count": 135,
   "id": "d799a5b2-e53a-49a7-a1ee-58831cc8ca57",
   "metadata": {},
   "outputs": [],
   "source": [
    "x=torch.arange(5.0)\n",
    "x.requires_grad=True"
   ]
  },
  {
   "cell_type": "code",
   "execution_count": 136,
   "id": "0b2ac183-fb4e-4742-a870-9385430f96c4",
   "metadata": {},
   "outputs": [],
   "source": [
    "y=x*x"
   ]
  },
  {
   "cell_type": "code",
   "execution_count": 138,
   "id": "157b3b72-e273-4412-8cbb-5f8d8477c23b",
   "metadata": {},
   "outputs": [],
   "source": [
    "y.sum().backward(retain_graph=True)"
   ]
  },
  {
   "cell_type": "code",
   "execution_count": 139,
   "id": "68b79f1b-f091-4703-a777-f878016c0bcd",
   "metadata": {},
   "outputs": [
    {
     "data": {
      "text/plain": [
       "tensor([0., 2., 4., 6., 8.])"
      ]
     },
     "execution_count": 139,
     "metadata": {},
     "output_type": "execute_result"
    }
   ],
   "source": [
    "x.grad"
   ]
  },
  {
   "cell_type": "code",
   "execution_count": 140,
   "id": "d79aba89-8806-4adc-a98c-afdded874137",
   "metadata": {},
   "outputs": [
    {
     "data": {
      "text/plain": [
       "tensor([0., 0., 0., 0., 0.])"
      ]
     },
     "execution_count": 140,
     "metadata": {},
     "output_type": "execute_result"
    }
   ],
   "source": [
    "x.grad.zero_()"
   ]
  },
  {
   "cell_type": "code",
   "execution_count": 142,
   "id": "743a1608-a6aa-464f-979a-5f00fbcf073f",
   "metadata": {},
   "outputs": [
    {
     "data": {
      "text/plain": [
       "tensor([ 0.,  1.,  4.,  9., 16.])"
      ]
     },
     "execution_count": 142,
     "metadata": {},
     "output_type": "execute_result"
    }
   ],
   "source": [
    "u=y.detach()\n",
    "u"
   ]
  },
  {
   "cell_type": "code",
   "execution_count": 144,
   "id": "2ec1daaf-ee7f-4452-b2f7-7005b3211949",
   "metadata": {},
   "outputs": [],
   "source": [
    "v=u*x"
   ]
  },
  {
   "cell_type": "code",
   "execution_count": 145,
   "id": "e573cee9-6fed-458c-8d41-bdfd5b000d6b",
   "metadata": {},
   "outputs": [],
   "source": [
    "v.sum().backward(retain_graph=True)"
   ]
  },
  {
   "cell_type": "code",
   "execution_count": 146,
   "id": "a6b84a6e-bf62-4840-bdd9-817c50f76f8c",
   "metadata": {},
   "outputs": [
    {
     "data": {
      "text/plain": [
       "tensor([ 0.,  1.,  4.,  9., 16.])"
      ]
     },
     "execution_count": 146,
     "metadata": {},
     "output_type": "execute_result"
    }
   ],
   "source": [
    "x.grad"
   ]
  },
  {
   "cell_type": "code",
   "execution_count": null,
   "id": "197e4fb1-439e-4815-8166-c312e3a3295a",
   "metadata": {},
   "outputs": [],
   "source": []
  }
 ],
 "metadata": {
  "kernelspec": {
   "display_name": "Python 3 (ipykernel)",
   "language": "python",
   "name": "python3"
  },
  "language_info": {
   "codemirror_mode": {
    "name": "ipython",
    "version": 3
   },
   "file_extension": ".py",
   "mimetype": "text/x-python",
   "name": "python",
   "nbconvert_exporter": "python",
   "pygments_lexer": "ipython3",
   "version": "3.10.12"
  }
 },
 "nbformat": 4,
 "nbformat_minor": 5
}
